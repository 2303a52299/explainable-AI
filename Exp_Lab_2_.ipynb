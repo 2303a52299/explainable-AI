{
  "nbformat": 4,
  "nbformat_minor": 0,
  "metadata": {
    "colab": {
      "provenance": [],
      "include_colab_link": true
    },
    "kernelspec": {
      "name": "python3",
      "display_name": "Python 3"
    },
    "language_info": {
      "name": "python"
    }
  },
  "cells": [
    {
      "cell_type": "markdown",
      "metadata": {
        "id": "view-in-github",
        "colab_type": "text"
      },
      "source": [
        "<a href=\"https://colab.research.google.com/github/2303a52299/explainable-AI/blob/main/Exp_Lab_2_.ipynb\" target=\"_parent\"><img src=\"https://colab.research.google.com/assets/colab-badge.svg\" alt=\"Open In Colab\"/></a>"
      ]
    },
    {
      "cell_type": "markdown",
      "source": [
        "## 2303A52299 B-45\n"
      ],
      "metadata": {
        "id": "NbDpJSlrnVm6"
      }
    },
    {
      "cell_type": "code",
      "source": [
        "import pandas as pd\n",
        "import numpy as np\n",
        "import matplotlib.pyplot as plt\n",
        "import shap\n",
        "\n",
        "from sklearn.model_selection import train_test_split\n",
        "from sklearn.ensemble import RandomForestRegressor\n",
        "from sklearn.metrics import mean_squared_error, mean_absolute_error, r2_score\n",
        "df = pd.read_csv(\"AmesHousing.csv\")\n",
        "\n",
        "print(\"Dataset shape:\", df.shape)\n",
        "df.head()\n",
        "target = \"SalePrice\"\n",
        "X = df.drop(columns=[target])\n",
        "y = df[target]\n",
        "\n",
        "X = pd.get_dummies(X, drop_first=True)\n",
        "\n",
        "print(\"Final features shape:\", X.shape)\n",
        "X.head()\n",
        "\n",
        "X_train, X_test, y_train, y_test = train_test_split(\n",
        "    X, y, test_size=0.2, random_state=42)\n",
        "\n",
        "model = RandomForestRegressor(n_estimators=300, random_state=42, n_jobs=-1)\n",
        "model.fit(X_train, y_train)\n",
        "y_pred = model.predict(X_test)\n",
        "\n",
        "rmse = np.sqrt(mean_squared_error(y_test, y_pred))\n",
        "mae = mean_absolute_error(y_test, y_pred)\n",
        "r2 = r2_score(y_test, y_pred)\n",
        "\n",
        "print(\"\\nModel Performance:\")\n",
        "print(f\"RMSE: {rmse:.2f}\")\n",
        "print(f\"MAE:  {mae:.2f}\")\n",
        "print(f\"R²:   {r2:.3f}\")\n",
        "explainer = shap.TreeExplainer(model)\n",
        "X_sample = X_test.sample(n=200, random_state=42)\n",
        "shap_values = explainer.shap_values(X_sample)\n",
        "shap.summary_plot(shap_values, X_sample, show=False)\n",
        "plt.title(\"SHAP Summary Plot\")\n",
        "plt.show()\n",
        "top_feature = X.columns[np.argsort(np.abs(shap_values).mean(axis=0))[::-1][0]]\n",
        "shap.dependence_plot(top_feature, shap_values, X_sample, show=False)\n",
        "plt.title(f\"SHAP Dependence Plot for {top_feature}\")\n",
        "plt.show()\n",
        "i = 0  # pick the first row in sample\n",
        "exp = shap.Explanation(\n",
        "    values=shap_values[i],\n",
        "    base_values=np.array([explainer.expected_value]),\n",
        "    data=X_sample.iloc[i, :].values,\n",
        "    feature_names=X_sample.columns.tolist()\n",
        ")\n",
        "shap.plots.waterfall(exp, max_display=12, show=False)\n",
        "plt.title(\"SHAP Waterfall Plot\")\n",
        "plt.show()\n",
        "importances = pd.Series(model.feature_importances_, index=X.columns)\n",
        "print(\"\\nTop 10 features by model importance:\")\n",
        "importances.sort_values(ascending=False).head(10)\n",
        "\n",
        "\n"
      ],
      "metadata": {
        "id": "PjgACxI-oALz",
        "colab": {
          "base_uri": "https://localhost:8080/"
        },
        "outputId": "c9a25f2b-6666-46b0-833f-7fb05084b5af"
      },
      "execution_count": null,
      "outputs": [
        {
          "metadata": {
            "tags": null
          },
          "name": "stdout",
          "output_type": "stream",
          "text": [
            "Dataset shape: (2930, 82)\n",
            "Final features shape: (2930, 262)\n"
          ]
        }
      ]
    }
  ]
}